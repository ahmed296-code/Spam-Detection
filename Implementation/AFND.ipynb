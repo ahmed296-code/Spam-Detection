{
 "cells": [
  {
   "cell_type": "code",
   "execution_count": 1,
   "id": "fb166cfc-4ccd-4ef5-8706-6e2147ce1599",
   "metadata": {
    "tags": []
   },
   "outputs": [],
   "source": [
    "import re\n",
    "import pandas as pd\n",
    "import string\n",
    "import nltk\n",
    "import joblib\n",
    "from sklearn.model_selection import train_test_split\n",
    "from sklearn.feature_extraction.text import TfidfVectorizer\n",
    "from xgboost import XGBClassifier\n",
    "from sklearn.metrics import accuracy_score\n",
    "from nltk.stem.porter import PorterStemmer\n",
    "from nltk.tokenize import word_tokenize\n",
    "from nltk.stem import WordNetLemmatizer\n",
    "from flask import Flask\n",
    "from flask import Flask, request, render_template\n",
    "from nltk.corpus import stopwords\n",
    "from nltk.corpus import wordnet\n",
    "from nltk import pos_tag\n",
    "from sklearn.model_selection import RandomizedSearchCV\n",
    "from sklearn.metrics import accuracy_score"
   ]
  },
  {
   "cell_type": "code",
   "execution_count": 4,
   "id": "f1c16462-223b-4ba8-91b6-753c7e0e51c3",
   "metadata": {
    "tags": []
   },
   "outputs": [],
   "source": [
    "# Load the dataset\n",
    "df = pd.read_csv('data.csv')\n",
    "\n",
    "# Combine 'headline' and 'body' into a single feature\n",
    "df['text'] = df['Headline'].astype(str) + ' ' + df['Body'].astype(str)\n",
    "\n",
    "# Data Cleaning\n",
    "# Convert the text to lowercase\n",
    "df['text'] = df['text'].str.lower()\n",
    "\n",
    "# Apply the function to remove URLs from the 'text' column\n",
    "def remove_urls(text):\n",
    "    url_pattern = re.compile(r'https?://\\S+|www\\.\\S+')\n",
    "    return url_pattern.sub(r'', text)\n",
    "\n",
    "df['text'] = df['text'].apply(remove_urls)\n",
    "\n",
    "# Remove punctuation\n",
    "df['text'] = df['text'].str.replace('[^\\w\\s]', '')\n",
    "\n",
    "# Check for None values and replace with empty string\n",
    "df['text'].fillna(\"\", inplace=True)\n",
    "\n",
    "# Remove rows where 'text' is an empty string\n",
    "df = df[df['text'] != '']\n",
    "\n",
    "# Reset the index after removing rows to avoid future errors\n",
    "df.reset_index(drop=True, inplace=True)\n",
    "\n",
    "# Tokenization\n",
    "df['text'] = df['text'].apply(lambda x: word_tokenize(x) if isinstance(x, str) else x)\n",
    "\n",
    "# Remove stopwords\n",
    "stop = stopwords.words('english')\n",
    "df['text'] = df['text'].apply(lambda x: [word for word in x if word not in stop])\n",
    "\n",
    "# Initialize the lemmatizer\n",
    "lemmatizer = WordNetLemmatizer()\n",
    "\n",
    "# Function to convert NLTK's POS tags to WordNet's format\n",
    "def get_wordnet_pos(treebank_tag):\n",
    "    if treebank_tag.startswith('J'):\n",
    "        return wordnet.ADJ\n",
    "    elif treebank_tag.startswith('V'):\n",
    "        return wordnet.VERB\n",
    "    elif treebank_tag.startswith('N'):\n",
    "        return wordnet.NOUN\n",
    "    elif treebank_tag.startswith('R'):\n",
    "        return wordnet.ADV\n",
    "    else:\n",
    "        return wordnet.NOUN\n",
    "\n",
    "# Function to preprocess and lemmatize text\n",
    "def lemmatize_text(tokens):\n",
    "    # Get POS tags for each token\n",
    "    pos_tags = pos_tag(tokens)\n",
    "    # Lemmatize each token with its POS tag\n",
    "    lemmatized_tokens = [lemmatizer.lemmatize(word, get_wordnet_pos(pos)) for word, pos in pos_tags]\n",
    "    # Join the lemmatized tokens back into a string\n",
    "    return ' '.join(lemmatized_tokens)\n",
    "\n",
    "# Apply the lemmatization function to the dataframe\n",
    "df['text'] = df['text'].apply(lambda x: lemmatize_text(x) if isinstance(x, list) else x)\n"
   ]
  },
  {
   "cell_type": "code",
   "execution_count": 6,
   "id": "10a927f5-3bca-4313-9a0f-e1a2d4de1da9",
   "metadata": {
    "tags": []
   },
   "outputs": [],
   "source": [
    "# Split the data into training and testing sets\n",
    "X_train, X_test, y_train, y_test = train_test_split(df['text'], df['Label'], test_size=0.2, random_state=42)"
   ]
  },
  {
   "cell_type": "code",
   "execution_count": 8,
   "id": "9b256a02-349a-43d9-98ce-4f2db71dd718",
   "metadata": {
    "tags": []
   },
   "outputs": [
    {
     "data": {
      "text/plain": [
       "['tfidf.pkl']"
      ]
     },
     "execution_count": 8,
     "metadata": {},
     "output_type": "execute_result"
    }
   ],
   "source": [
    "# Initialize a TfidfVectorizer\n",
    "tfidf = TfidfVectorizer(stop_words='english')\n",
    "\n",
    "# Transform the text data\n",
    "X_train_tfidf = tfidf.fit_transform(X_train.astype('U')) \n",
    "X_test_tfidf = tfidf.transform(X_test.astype('U'))\n",
    "\n",
    "# Save the tfidf vectorizer\n",
    "joblib.dump(tfidf, 'tfidf.pkl')"
   ]
  },
  {
   "cell_type": "code",
   "execution_count": 10,
   "id": "af5e1581-2806-4d97-b1a1-e6e5a67e947a",
   "metadata": {
    "tags": []
   },
   "outputs": [
    {
     "name": "stdout",
     "output_type": "stream",
     "text": [
      "Fitting 5 folds for each of 40 candidates, totalling 200 fits\n",
      "Best Parameters:  {'subsample': 0.9, 'reg_lambda': 0.25, 'reg_alpha': 0.25, 'n_estimators': 400, 'max_depth': 9, 'learning_rate': 0.05, 'gamma': 0.1, 'colsample_bytree': 0.5}\n",
      "Best Score:  0.9812879991835187\n",
      "Training Score: 99.97%\n",
      "Testing Score: 98.88%\n"
     ]
    }
   ],
   "source": [
    "from sklearn.model_selection import RandomizedSearchCV\n",
    "from sklearn.metrics import accuracy_score\n",
    "\n",
    "# Define the parameter grid\n",
    "param_grid = {\n",
    "    'learning_rate': [0.01, 0.05, 0.1, 0.15, 0.2, 0.25, 0.3],\n",
    "    'max_depth': [3, 4, 5, 6, 7, 8, 9, 10],\n",
    "    'n_estimators': [50, 100, 150, 200, 250, 300, 350, 400, 450, 500],\n",
    "    'gamma': [0, 0.05, 0.1, 0.15, 0.2, 0.25, 0.3, 0.35, 0.4],\n",
    "    'subsample': [0.5, 0.6, 0.7, 0.8, 0.9, 1.0],\n",
    "    'colsample_bytree': [0.5, 0.6, 0.7, 0.8, 0.9, 1.0],\n",
    "    'reg_alpha': [0, 0.25, 0.5, 0.75, 1],\n",
    "    'reg_lambda': [0.25, 0.5, 0.75, 1, 1.25, 1.5]\n",
    "}\n",
    "\n",
    "# Initialize the XGBClassifier\n",
    "clf = XGBClassifier(use_label_encoder=False, eval_metric='logloss', random_state=42)\n",
    "\n",
    "# Initialize the RandomizedSearchCV\n",
    "random_search = RandomizedSearchCV(clf, param_distributions=param_grid, n_iter=40, scoring='accuracy', n_jobs=-1, cv=5, verbose=3)\n",
    "\n",
    "# Fit the model\n",
    "random_search.fit(X_train_tfidf, y_train)\n",
    "\n",
    "import joblib\n",
    "# Save the model\n",
    "joblib.dump(random_search, 'model.pkl')\n",
    "\n",
    "\n",
    "# Print the best parameters and score\n",
    "print(\"Best Parameters: \", random_search.best_params_)\n",
    "print(\"Best Score: \", random_search.best_score_)\n",
    "\n",
    "# Calculate the training score\n",
    "training_score = random_search.score(X_train_tfidf, y_train)\n",
    "print(f'Training Score: {training_score * 100:.2f}%')\n",
    "\n",
    "# Predict on the test set using the best model\n",
    "y_pred = random_search.predict(X_test_tfidf)\n",
    "\n",
    "# Calculate the testing score\n",
    "testing_score = accuracy_score(y_test, y_pred)\n",
    "print(f'Testing Score: {testing_score * 100:.2f}%')"
   ]
  },
  {
   "cell_type": "code",
   "execution_count": 16,
   "id": "60cdfe52-b2f9-4550-8f88-29d0308d8a30",
   "metadata": {
    "tags": []
   },
   "outputs": [
    {
     "name": "stdout",
     "output_type": "stream",
     "text": [
      " * Serving Flask app '__main__'\n",
      " * Debug mode: off\n"
     ]
    },
    {
     "name": "stderr",
     "output_type": "stream",
     "text": [
      "WARNING: This is a development server. Do not use it in a production deployment. Use a production WSGI server instead.\n",
      " * Running on http://127.0.0.1:5000\n",
      "Press CTRL+C to quit\n",
      "127.0.0.1 - - [12/Jun/2024 14:22:00] \"GET / HTTP/1.1\" 200 -\n",
      "127.0.0.1 - - [12/Jun/2024 14:22:01] \"GET /static/css/globals.css HTTP/1.1\" 304 -\n",
      "127.0.0.1 - - [12/Jun/2024 14:22:01] \"GET /static/css/style.css HTTP/1.1\" 200 -\n",
      "127.0.0.1 - - [12/Jun/2024 14:22:36] \"POST / HTTP/1.1\" 200 -\n",
      "127.0.0.1 - - [12/Jun/2024 14:22:36] \"GET /static/css/style.css HTTP/1.1\" 304 -\n",
      "127.0.0.1 - - [12/Jun/2024 14:22:36] \"GET /static/css/globals.css HTTP/1.1\" 304 -\n",
      "127.0.0.1 - - [12/Jun/2024 14:22:59] \"POST / HTTP/1.1\" 200 -\n",
      "127.0.0.1 - - [12/Jun/2024 14:22:59] \"GET /static/css/style.css HTTP/1.1\" 304 -\n",
      "127.0.0.1 - - [12/Jun/2024 14:23:00] \"GET /static/css/globals.css HTTP/1.1\" 304 -\n"
     ]
    }
   ],
   "source": [
    "import string\n",
    "from flask import Flask, request, render_template\n",
    "import joblib\n",
    "import pandas as pd\n",
    "import re\n",
    "from nltk.tokenize import word_tokenize\n",
    "from nltk.corpus import stopwords\n",
    "from nltk.stem import WordNetLemmatizer\n",
    "from nltk import pos_tag\n",
    "from nltk.corpus import wordnet\n",
    "\n",
    "app = Flask(__name__)\n",
    "\n",
    "# Load the model and vectorizer\n",
    "random_search = joblib.load('model.pkl')\n",
    "tfidf = joblib.load('tfidf.pkl')\n",
    "\n",
    "# Function to remove URLs\n",
    "def remove_urls(text):\n",
    "    url_pattern = r'http[s]?://(?:[a-zA-Z]|[0-9]|[$-_@.&+]|[!*\\\\(\\\\),]|(?:%[0-9a-fA-F][0-9a-fA-F]))+'\n",
    "    return re.sub(url_pattern, '', text)\n",
    "\n",
    "# Function to convert NLTK's POS tags to WordNet's format\n",
    "def get_wordnet_pos(treebank_tag):\n",
    "    if treebank_tag.startswith('J'):\n",
    "        return wordnet.ADJ\n",
    "    elif treebank_tag.startswith('V'):\n",
    "        return wordnet.VERB\n",
    "    elif treebank_tag.startswith('N'):\n",
    "        return wordnet.NOUN\n",
    "    elif treebank_tag.startswith('R'):\n",
    "        return wordnet.ADV\n",
    "    else:\n",
    "        return wordnet.NOUN\n",
    "\n",
    "@app.route('/', methods=['GET', 'POST'])\n",
    "def index():\n",
    "    if request.method == 'POST':\n",
    "        # Get the news text from the form\n",
    "        news_text = request.form['inputText']\n",
    "\n",
    "        # Data Cleaning\n",
    "        # Convert the text to lowercase\n",
    "        news_text = news_text.lower()\n",
    "\n",
    "        # Remove URLs\n",
    "        news_text = remove_urls(news_text)\n",
    "\n",
    "        # Remove punctuation\n",
    "        news_text = news_text.translate(str.maketrans('', '', string.punctuation))\n",
    "\n",
    "        # Tokenization\n",
    "        news_tokens = word_tokenize(news_text)\n",
    "\n",
    "        # Remove stopwords\n",
    "        stop_words = stopwords.words('english')\n",
    "        news_tokens = [word for word in news_tokens if word not in stop_words]\n",
    "\n",
    "        # POS Tagging\n",
    "        news_pos_tags = pos_tag(news_tokens)\n",
    "\n",
    "        # Lemmatization\n",
    "        lemmatizer = WordNetLemmatizer()\n",
    "        news_text = ' '.join([lemmatizer.lemmatize(word, get_wordnet_pos(pos)) for word, pos in news_pos_tags])\n",
    "\n",
    "        # Transform the text data\n",
    "        news_text_tfidf = tfidf.transform([news_text])\n",
    "\n",
    "        # Predict on the new text using the best model\n",
    "        news_pred = random_search.predict(news_text_tfidf)\n",
    "\n",
    "        # Return the prediction\n",
    "        result = \"Real\" if news_pred[0] == 1 else \"Fake\"\n",
    "        result_class = result\n",
    "\n",
    "        # Render the index.html template with the result\n",
    "        return render_template('index.html', resultt=result, result_class=result_class)\n",
    "\n",
    "    # If it's a GET request, just render the template without any result\n",
    "    return render_template('index.html')\n",
    "\n",
    "if __name__ == '__main__':\n",
    "    app.run(debug=False)"
   ]
  },
  {
   "cell_type": "code",
   "execution_count": 12,
   "id": "e3b6d75e-973a-49fd-98d6-a8bf42c6fcae",
   "metadata": {
    "tags": []
   },
   "outputs": [
    {
     "name": "stdout",
     "output_type": "stream",
     "text": [
      "Accuracy: 0.99\n",
      "Precision: 0.99\n",
      "Recall: 0.99\n",
      "F1 Score: 0.99\n"
     ]
    }
   ],
   "source": [
    "from sklearn.metrics import accuracy_score, precision_score, recall_score, f1_score\n",
    "\n",
    "# Assuming you have a test set ready with X_test_tfidf and y_test\n",
    "\n",
    "# Use the best estimator from the randomized search to make predictions on the test set\n",
    "y_pred = random_search.best_estimator_.predict(X_test_tfidf)\n",
    "\n",
    "# Calculate the metrics\n",
    "accuracy = accuracy_score(y_test, y_pred)\n",
    "precision = precision_score(y_test, y_pred, average='weighted') # Use 'binary' if you have binary classification\n",
    "recall = recall_score(y_test, y_pred, average='weighted') # Use 'binary' if you have binary classification\n",
    "f1 = f1_score(y_test, y_pred, average='weighted') # Use 'binary' if you have binary classification\n",
    "\n",
    "# Print the metrics\n",
    "print(f\"Accuracy: {accuracy:.2f}\")\n",
    "print(f\"Precision: {precision:.2f}\")\n",
    "print(f\"Recall: {recall:.2f}\")\n",
    "print(f\"F1 Score: {f1:.2f}\")"
   ]
  },
  {
   "cell_type": "code",
   "execution_count": 13,
   "id": "9777c412-e37b-417e-aa6c-cd833544e460",
   "metadata": {
    "tags": []
   },
   "outputs": [
    {
     "data": {
      "image/png": "[encoded data removed]",
      "text/plain": [
       "<Figure size 640x480 with 1 Axes>"
      ]
     },
     "metadata": {},
     "output_type": "display_data"
    }
   ],
   "source": [
    "import numpy as np\n",
    "import matplotlib.pyplot as plt\n",
    "from sklearn.model_selection import learning_curve\n",
    "\n",
    "# Now, we generate the learning curve\n",
    "train_sizes, train_scores, validation_scores = learning_curve(\n",
    "    estimator = random_search.best_estimator_, # Use the best model found from RandomizedSearchCV\n",
    "    X = X_train_tfidf, \n",
    "    y = y_train, \n",
    "    train_sizes = np.linspace(0.01, 1.0, 50), # 50 different sizes of the training set\n",
    "    cv = 5, # 5-fold cross-validation\n",
    "    scoring = 'accuracy',\n",
    "    n_jobs = -1 # Use all available cores\n",
    ")\n",
    "\n",
    "# Calculate the mean and standard deviation for training set scores\n",
    "train_mean = np.mean(train_scores, axis=1)\n",
    "train_std = np.std(train_scores, axis=1)\n",
    "\n",
    "# Calculate the mean and standard deviation for validation set scores\n",
    "validation_mean = np.mean(validation_scores, axis=1)\n",
    "validation_std = np.std(validation_scores, axis=1)\n",
    "\n",
    "# Plot the learning curves\n",
    "plt.fill_between(train_sizes, train_mean - train_std, train_mean + train_std, color='r', alpha=0.1)\n",
    "plt.fill_between(train_sizes, validation_mean - validation_std, validation_mean + validation_std, color='g', alpha=0.1)\n",
    "\n",
    "plt.plot(train_sizes, train_mean, 'o-', color='r', label='Training score')\n",
    "plt.plot(train_sizes, validation_mean, 'o-', color='g', label='Cross-validation score')\n",
    "\n",
    "plt.title('Learning Curve')\n",
    "plt.xlabel('Training Set Size')\n",
    "plt.ylabel('Accuracy Score')\n",
    "plt.legend(loc='best')\n",
    "plt.show()"
   ]
  },
  {
   "cell_type": "code",
   "execution_count": 14,
   "id": "daa39f8b-5733-44cc-b327-f47fa639ec28",
   "metadata": {
    "tags": []
   },
   "outputs": [
    {
     "data": {
      "image/png": "[encoded data removed]",
      "text/plain": [
       "<Figure size 1000x700 with 2 Axes>"
      ]
     },
     "metadata": {},
     "output_type": "display_data"
    }
   ],
   "source": [
    "from sklearn.metrics import confusion_matrix\n",
    "import seaborn as sns\n",
    "import matplotlib.pyplot as plt\n",
    "\n",
    "# Assuming you have a test set ready with X_test_tfidf and y_test\n",
    "\n",
    "# Use the best estimator from the randomized search to make predictions on the test set\n",
    "y_pred = random_search.best_estimator_.predict(X_test_tfidf)\n",
    "\n",
    "# Generate the confusion matrix\n",
    "cm = confusion_matrix(y_test, y_pred)\n",
    "\n",
    "# Plot the confusion matrix using Seaborn's heatmap\n",
    "plt.figure(figsize=(10,7))\n",
    "sns.heatmap(cm, annot=True, fmt='d')\n",
    "plt.title('Confusion Matrix')\n",
    "plt.ylabel('Actual Label')\n",
    "plt.xlabel('Predicted Label')\n",
    "plt.show()"
   ]
  }
 ],
 "metadata": {
  "kernelspec": {
   "display_name": "Python 3 (ipykernel)",
   "language": "python",
   "name": "python3"
  },
  "language_info": {
   "codemirror_mode": {
    "name": "ipython",
    "version": 3
   },
   "file_extension": ".py",
   "mimetype": "text/x-python",
   "name": "python",
   "nbconvert_exporter": "python",
   "pygments_lexer": "ipython3",
   "version": "3.11.7"
  }
 },
 "nbformat": 4,
 "nbformat_minor": 5
}
